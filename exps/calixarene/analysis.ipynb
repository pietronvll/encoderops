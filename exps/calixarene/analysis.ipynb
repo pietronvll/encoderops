{
 "cells": [
  {
   "cell_type": "code",
   "execution_count": 1,
   "id": "9fab3b59",
   "metadata": {},
   "outputs": [
    {
     "name": "stdout",
     "output_type": "stream",
     "text": [
      "/home/novelli/encoderops\n"
     ]
    }
   ],
   "source": [
    "%cd ../../"
   ]
  },
  {
   "cell_type": "code",
   "execution_count": 7,
   "id": "cd665b26",
   "metadata": {},
   "outputs": [
    {
     "data": {
      "text/plain": [
       "True"
      ]
     },
     "execution_count": 7,
     "metadata": {},
     "output_type": "execute_result"
    }
   ],
   "source": [
    "import torch\n",
    "from dotenv import load_dotenv\n",
    "from pathlib import Path\n",
    "from src.model import EvolutionOperator\n",
    "from src.data import CalixareneDataModule\n",
    "from src.configs import TrainerArgs, CalixareneDataArgs # noqa\n",
    "from huggingface_hub import hf_hub_download\n",
    "from torch_geometric.loader import DataLoader\n",
    "from loguru import logger\n",
    "# from dataclasses import asdict\n",
    "# import linear_operator_learning as lol\n",
    "import matplotlib.pyplot as plt\n",
    "from src.data import mdtraj_load\n",
    "import numpy as np\n",
    "import os\n",
    "from src.utils import compute_descriptors\n",
    "import pandas as pd\n",
    "# import wandb\n",
    "\n",
    "# Assume there's a .env file on the root of the repo where \"DATA_PATH\" is defined\n",
    "load_dotenv()"
   ]
  },
  {
   "cell_type": "code",
   "execution_count": 5,
   "id": "91e4d50f",
   "metadata": {},
   "outputs": [
    {
     "data": {
      "application/vnd.jupyter.widget-view+json": {
       "model_id": "6140b606c85240f994a06b108eaf1098",
       "version_major": 2,
       "version_minor": 0
      },
      "text/plain": [
       "last.ckpt:   0%|          | 0.00/560k [00:00<?, ?B/s]"
      ]
     },
     "metadata": {},
     "output_type": "display_data"
    }
   ],
   "source": [
    "ckpt_G2_path = hf_hub_download(repo_id=\"pnovelli/encoderops\", filename=\"calixarene-G2/checkpoints/last.ckpt\")\n",
    "ckpt_G13_path = hf_hub_download(repo_id=\"pnovelli/encoderops\", filename=\"calixarene-G1+3/checkpoints/last.ckpt\")\n"
   ]
  },
  {
   "cell_type": "code",
   "execution_count": 8,
   "id": "b2071e0c",
   "metadata": {},
   "outputs": [
    {
     "name": "stderr",
     "output_type": "stream",
     "text": [
      "\u001b[32m2025-05-21 13:42:56.504\u001b[0m | \u001b[1mINFO    \u001b[0m | \u001b[36msrc.data\u001b[0m:\u001b[36m__init__\u001b[0m:\u001b[36m314\u001b[0m - \u001b[1mLoaded G2-0 | lagtime 0.5 ns | cutoff 7.0 angs\u001b[0m\n",
      "\u001b[32m2025-05-21 13:42:58.501\u001b[0m | \u001b[1mINFO    \u001b[0m | \u001b[36msrc.data\u001b[0m:\u001b[36m__init__\u001b[0m:\u001b[36m314\u001b[0m - \u001b[1mLoaded G2-1 | lagtime 0.5 ns | cutoff 7.0 angs\u001b[0m\n"
     ]
    }
   ],
   "source": [
    "model_G2 = EvolutionOperator.load_from_checkpoint(ckpt_G2_path)\n",
    "model_G13 = EvolutionOperator.load_from_checkpoint(ckpt_G13_path)\n",
    "data_args = torch.load(ckpt_G2_path, weights_only=False)['CalixareneDataModule']['data_args']\n",
    "data_args = CalixareneDataArgs(**data_args)\n",
    "datamodule = CalixareneDataModule(model_G2.trainer_args, data_args = data_args, num_workers = 1)\n",
    "datamodule.setup(\"fit\")"
   ]
  },
  {
   "cell_type": "code",
   "execution_count": null,
   "id": "06a29511",
   "metadata": {},
   "outputs": [],
   "source": [
    "#[TODO]"
   ]
  }
 ],
 "metadata": {
  "kernelspec": {
   "display_name": ".venv",
   "language": "python",
   "name": "python3"
  },
  "language_info": {
   "codemirror_mode": {
    "name": "ipython",
    "version": 3
   },
   "file_extension": ".py",
   "mimetype": "text/x-python",
   "name": "python",
   "nbconvert_exporter": "python",
   "pygments_lexer": "ipython3",
   "version": "3.11.11"
  }
 },
 "nbformat": 4,
 "nbformat_minor": 5
}
