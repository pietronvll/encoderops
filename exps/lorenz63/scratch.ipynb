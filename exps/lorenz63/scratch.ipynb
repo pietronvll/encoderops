{
 "cells": [
  {
   "cell_type": "code",
   "execution_count": 3,
   "id": "0a30a134",
   "metadata": {},
   "outputs": [
    {
     "name": "stdout",
     "output_type": "stream",
     "text": [
      "/home/novelli/encoderops\n"
     ]
    }
   ],
   "source": [
    "%cd ../../"
   ]
  },
  {
   "cell_type": "code",
   "execution_count": 32,
   "id": "ce306efa",
   "metadata": {},
   "outputs": [
    {
     "data": {
      "text/plain": [
       "True"
      ]
     },
     "execution_count": 32,
     "metadata": {},
     "output_type": "execute_result"
    }
   ],
   "source": [
    "from huggingface_hub import hf_hub_download\n",
    "import torch\n",
    "from dotenv import load_dotenv\n",
    "from pathlib import Path\n",
    "from src.model import EvolutionOperator\n",
    "from src.data import Lorenz63DataModule\n",
    "from src.configs import TrainerArgs, Lorenz63DataArgs # noqa\n",
    "\n",
    "load_dotenv()"
   ]
  },
  {
   "cell_type": "code",
   "execution_count": 5,
   "id": "b84e018c",
   "metadata": {},
   "outputs": [],
   "source": [
    "ckpt_path = hf_hub_download(repo_id=\"pnovelli/encoderops\", filename=\"lorenz63/checkpoints/last.ckpt\")"
   ]
  },
  {
   "cell_type": "code",
   "execution_count": 33,
   "id": "45e3e355",
   "metadata": {},
   "outputs": [],
   "source": [
    "model = EvolutionOperator.load_from_checkpoint(ckpt_path)\n",
    "data_args = torch.load(ckpt_path, weights_only=False)['Lorenz63DataModule']['data_args']\n",
    "data_args = Lorenz63DataArgs(**data_args)\n",
    "datamodule = Lorenz63DataModule(model.trainer_args, data_args = data_args, num_workers = 1)"
   ]
  }
 ],
 "metadata": {
  "kernelspec": {
   "display_name": ".venv",
   "language": "python",
   "name": "python3"
  },
  "language_info": {
   "codemirror_mode": {
    "name": "ipython",
    "version": 3
   },
   "file_extension": ".py",
   "mimetype": "text/x-python",
   "name": "python",
   "nbconvert_exporter": "python",
   "pygments_lexer": "ipython3",
   "version": "3.11.11"
  }
 },
 "nbformat": 4,
 "nbformat_minor": 5
}
