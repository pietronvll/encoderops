{
 "cells": [
  {
   "cell_type": "code",
   "execution_count": null,
   "metadata": {},
   "outputs": [],
   "source": [
    "import treescope\n",
    "import torch\n",
    "from pathlib import Path\n",
    "from src.model import EvolutionOperator\n",
    "from src.data import DESRESDataset\n",
    "from src.configs import ModelArgs # noqa\n",
    "from torch_geometric.loader import DataLoader\n",
    "from loguru import logger\n",
    "from dataclasses import asdict\n",
    "import linear_operator_learning as lol\n",
    "import matplotlib.pyplot as plt\n",
    "import numpy as np\n",
    "import pickle\n",
    "\n",
    "\n",
    "#treescope.basic_interactive_setup()"
   ]
  },
  {
   "cell_type": "code",
   "execution_count": null,
   "metadata": {},
   "outputs": [],
   "source": [
    "# Write new configs on wandb.\n",
    "import wandb\n",
    "\n",
    "protein_id = \"CLN025\"\n",
    "traj_id = 0\n",
    "epoch = 249\n",
    "api = wandb.Api()\n",
    "\n",
    "for run in api.runs(f\"csml/encoderops-{protein_id}-{traj_id}\"):\n",
    "    updated: bool = False\n",
    "    if run.state == \"finished\":\n",
    "        data_path = Path(f\"logs/encoderops-{protein_id}-{traj_id}/{run.id}\")\n",
    "        model = EvolutionOperator.load_from_checkpoint(next(data_path.glob(f\"**/epoch={epoch}*.ckpt\")))\n",
    "        model_args = asdict(model.model_args)\n",
    "        for k, v in model_args.items():\n",
    "            if k not in run.config:\n",
    "                run.config[k] = v\n",
    "                updated = True\n",
    "        run.update()\n",
    "        if updated:\n",
    "            logger.info(f\"Updated run {run.id}\")\n",
    "        else:\n",
    "            logger.info(f\"Run {run.id} was already up to date\")"
   ]
  },
  {
   "cell_type": "code",
   "execution_count": null,
   "metadata": {},
   "outputs": [],
   "source": [
    "run_id = \"yl7v1o69\""
   ]
  },
  {
   "cell_type": "code",
   "execution_count": null,
   "metadata": {},
   "outputs": [],
   "source": [
    "def load_run(run_id: str, protein_id: str, traj_id:int = 0, epoch: int = 249, center_covariance: bool = False, progress: bool = True):\n",
    "    reg=1e-4\n",
    "    data_path = Path(f\"logs/encoderops-{protein_id}-{traj_id}/{run_id}\")\n",
    "    model = EvolutionOperator.load_from_checkpoint(next(data_path.glob(f\"**/epoch={epoch}*.ckpt\")))\n",
    "    dataset = DESRESDataset(model.data_args.protein_id, lagtime=model.data_args.lagtime)\n",
    "    embeddings = {\"t\": [], \"lag\": []}\n",
    "    model = model.eval()\n",
    "\n",
    "    dataloader = DataLoader(\n",
    "        dataset, batch_size=128, shuffle=False\n",
    "    )\n",
    "\n",
    "    with torch.no_grad():\n",
    "        if progress:\n",
    "            from tqdm.auto import tqdm\n",
    "            dataloader = tqdm(dataloader)\n",
    "        for batch in dataloader:\n",
    "            for k, v in batch.items():\n",
    "                batch[k] = v.to(model.device)\n",
    "            # data\n",
    "            x_t = model._setup_graph_data(batch)\n",
    "            x_lag = model._setup_graph_data(batch, key=\"item_lag\")\n",
    "            # forward\n",
    "            f_t = model.forward_nn(x_t)\n",
    "            f_lag = model.forward_nn(x_lag)\n",
    "            embeddings[\"t\"].append((f_t.detach().cpu()))\n",
    "            embeddings[\"lag\"].append((f_lag.detach().cpu()))\n",
    "    phi_t = torch.cat(embeddings[\"t\"])\n",
    "    phi_lag = torch.cat(embeddings[\"lag\"])\n",
    "    cov_X = lol.nn.stats.covariance(phi_t, center=center_covariance)\n",
    "    cov_X += torch.eye(cov_X.shape[0], device=cov_X.device) * reg\n",
    "    cov_XY = lol.nn.stats.covariance(phi_t, phi_lag, center=center_covariance)\n",
    "    G = torch.linalg.solve(cov_X, cov_XY)\n",
    "    l, Q = torch.linalg.eig(G) # Q @ torch.diag(l) @ Q^-1 = G\n",
    "    r_fun = phi_t.to(Q.dtype) @ Q \n",
    "    results = {\n",
    "        \"embedding_t\": phi_t,\n",
    "        \"embedding_lag\": phi_lag,\n",
    "        \"eigenvalues\": l,\n",
    "        \"eigenvectors\": Q,\n",
    "        \"r_fun\": r_fun\n",
    "    }\n",
    "    return model, results"
   ]
  },
  {
   "cell_type": "code",
   "execution_count": null,
   "metadata": {},
   "outputs": [],
   "source": [
    "model, results = load_run(run_id, protein_id)"
   ]
  },
  {
   "cell_type": "code",
   "execution_count": null,
   "metadata": {},
   "outputs": [],
   "source": [
    "reg = 1e-4\n",
    "if Path(f\"analysis/results-{protein_id}-{traj_id}.pkl\").exists():\n",
    "    results = pickle.load(open(f\"analysis/results-{protein_id}-{traj_id}.pkl\", \"rb\"))\n",
    "else:\n",
    "    results = {}\n",
    "    for run in api.runs(f\"csml/encoderops-{protein_id}-{traj_id}\"):\n",
    "        if run.state == \"finished\":\n",
    "            logger.info(f\"Run {run.id}\")\n",
    "            model, run_results = load_run(run.id, protein_id, progress=False)\n",
    "            results[run.id] = run_results\n",
    "            pickle.dump(results, open(f\"analysis/results-{protein_id}-{traj_id}.pkl\", \"wb\"))"
   ]
  },
  {
   "cell_type": "code",
   "execution_count": null,
   "metadata": {},
   "outputs": [],
   "source": [
    "def implied_timescale(ev, lagtime_ns: float = 5.0):\n",
    "    if torch.is_tensor(ev):\n",
    "        ev = ev.numpy(force=True)\n",
    "    return np.sort((1/-np.log(np.abs(ev)))*lagtime_ns)[::-1]"
   ]
  },
  {
   "cell_type": "code",
   "execution_count": null,
   "metadata": {},
   "outputs": [],
   "source": [
    "print(results['eigenvalues'])"
   ]
  },
  {
   "cell_type": "code",
   "execution_count": null,
   "metadata": {},
   "outputs": [],
   "source": [
    "print(implied_timescale(results['eigenvalues']))"
   ]
  },
  {
   "cell_type": "code",
   "execution_count": null,
   "metadata": {},
   "outputs": [],
   "source": [
    "print(model.get_transfer_operator())"
   ]
  },
  {
   "cell_type": "code",
   "execution_count": null,
   "metadata": {},
   "outputs": [],
   "source": [
    "print(model.cov.cpu()/cov_X)"
   ]
  },
  {
   "cell_type": "code",
   "execution_count": null,
   "metadata": {},
   "outputs": [],
   "source": [
    "from linear_operator_learning.nn.stats import covariance\n",
    "phi_t = results['embedding_t']\n",
    "phi_lag = results['embedding_lag']\n",
    "center_covariance=False\n",
    "cov_X = covariance(phi_t, center=center_covariance)\n",
    "cov_X += torch.eye(cov_X.shape[0], device=cov_X.device) * 1e-4\n",
    "cov_XY = covariance(phi_t, phi_lag, center=center_covariance)\n",
    "G = torch.linalg.solve(cov_X, cov_XY)"
   ]
  },
  {
   "cell_type": "code",
   "execution_count": null,
   "metadata": {},
   "outputs": [],
   "source": [
    "p"
   ]
  },
  {
   "cell_type": "code",
   "execution_count": null,
   "metadata": {},
   "outputs": [],
   "source": [
    "fig, ax = plt.subplots(ncols=2, figsize=(10, 5))\n",
    "for run_id, values in results.items():\n",
    "    data_path = Path(f\"/home/novelli/encoderops/encoderops_chignolin/{run_id}\")\n",
    "    epoch = 249\n",
    "    model = EvolutionOperator.load_from_checkpoint(next(data_path.glob(f\"**/epoch={epoch}*.ckpt\")))\n",
    "    color = 'r'\n",
    "    if model.model_args.regularization == 0.0001:\n",
    "        if model.model_args.min_encoder_lr is not None:\n",
    "            if model.model_args.normalize_lin:\n",
    "            #if model.model_args.max_grad_norm is None:\n",
    "                color ='b'\n",
    "                print(run_id, model.model_args)\n",
    "    \n",
    "    #color = 'b' if model.model_args.normalize_lin else 'r'\n",
    "    # color = 'b' if model.model_args.max_grad_norm is None else 'r'\n",
    "    # color = 'b' if model.model_args.regularization == 0.0001 else 'r'\n",
    "\n",
    "    ts = implied_timescale(values['eigenvalues'])\n",
    "    ax[0].plot(range(1, len(ts) + 1), ts, 'x-', label=run_id, color= color)\n",
    "    ax[1].plot(np.sort(np.abs(values['eigenvalues'][:4]))[::-1], 'x-', color=color)\n",
    "#plt.yscale('log')\n",
    "ax[0].set_xscale('log')\n",
    "ax[0].set_yscale('log')\n",
    "ax[0].axhline(5)\n",
    "#ax[0].set_ylim(2, 100)\n",
    "ax[1].set_ylim(0.8, 1)"
   ]
  },
  {
   "cell_type": "code",
   "execution_count": null,
   "metadata": {},
   "outputs": [],
   "source": [
    "results['p52qnu9d']['eigenvalues']"
   ]
  },
  {
   "cell_type": "code",
   "execution_count": null,
   "metadata": {},
   "outputs": [],
   "source": [
    "N = phi_t.shape[0]\n",
    "plt.scatter(results['p52qnu9d']['eigenvalues'].real, results['p52qnu9d']['eigenvalues'].imag, marker='x', label=\"Ridge Regression new\")\n",
    "#plt.scatter(e1.real, e1.imag, label=\"end2end\")\n",
    "plt.grid(alpha=0.2)\n",
    "plt.legend()\n",
    "# Draw unit circle\n",
    "t = np.linspace(0, 2 * np.pi, 100)\n",
    "r = 1\n",
    "x = r * np.cos(t)\n",
    "y = r * np.sin(t)\n",
    "plt.plot(x, y, color='k', lw=0.5)\n",
    "plt.axis('equal')"
   ]
  },
  {
   "cell_type": "code",
   "execution_count": null,
   "metadata": {},
   "outputs": [],
   "source": [
    "r_fun = results['p52qnu9d']['r_fun']"
   ]
  },
  {
   "cell_type": "code",
   "execution_count": null,
   "metadata": {},
   "outputs": [],
   "source": [
    "from mlcolvar.utils.fes import compute_fes"
   ]
  },
  {
   "cell_type": "code",
   "execution_count": null,
   "metadata": {},
   "outputs": [],
   "source": [
    "plt.plot(r_fun[:, 0].real, '.', color='k', markersize = 0.5)\n",
    "plt.axhline(1.55, color='r')"
   ]
  },
  {
   "cell_type": "code",
   "execution_count": null,
   "metadata": {},
   "outputs": [],
   "source": [
    "plt.scatter(r_fun[:, 0].real, r_fun[:, 1].real, color='k', s = 0.5)\n",
    "plt.axvline(1.55, color='r')\n",
    "plt.title(\"They look like they are concentrated on the vertices of a simplex!!!\")"
   ]
  },
  {
   "cell_type": "code",
   "execution_count": null,
   "metadata": {},
   "outputs": [],
   "source": []
  }
 ],
 "metadata": {
  "kernelspec": {
   "display_name": ".venv",
   "language": "python",
   "name": "python3"
  },
  "language_info": {
   "codemirror_mode": {
    "name": "ipython",
    "version": 3
   },
   "file_extension": ".py",
   "mimetype": "text/x-python",
   "name": "python",
   "nbconvert_exporter": "python",
   "pygments_lexer": "ipython3",
   "version": "3.11.5"
  }
 },
 "nbformat": 4,
 "nbformat_minor": 2
}
