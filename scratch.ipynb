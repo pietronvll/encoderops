{
 "cells": [
  {
   "cell_type": "code",
   "execution_count": 3,
   "metadata": {},
   "outputs": [],
   "source": [
    "from pathlib import Path\n",
    "data_path = Path(\"/media/data/pnovelli/md_datasets/DESRES_folding_trajs/DESRES-Trajectory_CLN025-0-protein/CLN025-0-protein\")\n",
    "trajectory_files = [str(traj) for traj in data_path.glob(\"*.dcd\")]\n",
    "top = next(data_path.glob(\"*.pdb\")).__str__()"
   ]
  },
  {
   "cell_type": "markdown",
   "metadata": {},
   "source": [
    "Data loading"
   ]
  },
  {
   "cell_type": "code",
   "execution_count": 23,
   "metadata": {},
   "outputs": [],
   "source": [
    "import mdtraj\n",
    "from mlcolvar.utils.io import _configures_from_trajectory, _z_table_from_top, _names_from_top\n",
    "from mlcolvar.data.graph.utils import create_dataset_from_configurations\n",
    "\n",
    "stride = 100\n",
    "system_selection=\"all and not type H\"\n",
    "traj = mdtraj.load(trajectory_files, top=top, stride = stride)"
   ]
  },
  {
   "cell_type": "code",
   "execution_count": 7,
   "metadata": {},
   "outputs": [],
   "source": [
    "traj.top = mdtraj.core.trajectory.load_topology(top)"
   ]
  },
  {
   "cell_type": "code",
   "execution_count": 14,
   "metadata": {},
   "outputs": [],
   "source": [
    "configs = _configures_from_trajectory(traj, system_selection=system_selection)"
   ]
  },
  {
   "cell_type": "code",
   "execution_count": 24,
   "metadata": {},
   "outputs": [],
   "source": [
    "z_table = _z_table_from_top([traj.top])\n",
    "atom_names = _names_from_top([traj.top])"
   ]
  },
  {
   "cell_type": "code",
   "execution_count": 26,
   "metadata": {},
   "outputs": [
    {
     "name": "stdout",
     "output_type": "stream",
     "text": [
      "[TYR1-N, TYR1-H, TYR1-H2, TYR1-H3, TYR1-CA, TYR1-HA, TYR1-CB, TYR1-HB3, TYR1-HB2, TYR1-CG, TYR1-CD1, TYR1-HD1, TYR1-CE1, TYR1-HE1, TYR1-CZ, TYR1-OH, TYR1-HH, TYR1-CD2, TYR1-HD2, TYR1-CE2, TYR1-HE2, TYR1-C, TYR1-O, TYR2-N, TYR2-H, TYR2-CA, TYR2-HA, TYR2-CB, TYR2-HB3, TYR2-HB2, TYR2-CG, TYR2-CD1, TYR2-HD1, TYR2-CE1, TYR2-HE1, TYR2-CZ, TYR2-OH, TYR2-HH, TYR2-CD2, TYR2-HD2, TYR2-CE2, TYR2-HE2, TYR2-C, TYR2-O, ASP3-N, ASP3-H, ASP3-CA, ASP3-HA, ASP3-CB, ASP3-HB3, ASP3-HB2, ASP3-CG, ASP3-OD1, ASP3-OD2, ASP3-C, ASP3-O, PRO4-N, PRO4-CD, PRO4-HD3, PRO4-HD2, PRO4-CA, PRO4-HA, PRO4-CB, PRO4-HB3, PRO4-HB2, PRO4-CG, PRO4-HG3, PRO4-HG2, PRO4-C, PRO4-O, GLU5-N, GLU5-H, GLU5-CA, GLU5-HA, GLU5-CB, GLU5-HB3, GLU5-HB2, GLU5-CG, GLU5-HG3, GLU5-HG2, GLU5-CD, GLU5-OE1, GLU5-OE2, GLU5-C, GLU5-O, THR6-N, THR6-H, THR6-CA, THR6-HA, THR6-CB, THR6-HB, THR6-OG1, THR6-HG1, THR6-CG2, THR6-HG21, THR6-HG22, THR6-HG23, THR6-C, THR6-O, GLY7-N, GLY7-H, GLY7-CA, GLY7-HA3, GLY7-HA2, GLY7-C, GLY7-O, THR8-N, THR8-H, THR8-CA, THR8-HA, THR8-CB, THR8-HB, THR8-OG1, THR8-HG1, THR8-CG2, THR8-HG21, THR8-HG22, THR8-HG23, THR8-C, THR8-O, TRP9-N, TRP9-H, TRP9-CA, TRP9-HA, TRP9-CB, TRP9-HB3, TRP9-HB2, TRP9-CG, TRP9-CD1, TRP9-HD1, TRP9-NE1, TRP9-HE1, TRP9-CE2, TRP9-CD2, TRP9-CE3, TRP9-HE3, TRP9-CZ3, TRP9-HZ3, TRP9-CZ2, TRP9-HZ2, TRP9-CH2, TRP9-HH2, TRP9-C, TRP9-O, TYR10-C, TYR10-O, TYR10-OXT, TYR10-N, TYR10-H, TYR10-CA, TYR10-HA, TYR10-CB, TYR10-HB3, TYR10-HB2, TYR10-CG, TYR10-CD1, TYR10-HD1, TYR10-CE1, TYR10-HE1, TYR10-CZ, TYR10-OH, TYR10-HH, TYR10-CD2, TYR10-HD2, TYR10-CE2, TYR10-HE2]\n"
     ]
    }
   ],
   "source": [
    "show_progress = False\n",
    "dataset = create_dataset_from_configurations(\n",
    "    configs,\n",
    "    z_table,\n",
    "    6.0,\n",
    "    0.0,\n",
    "    atom_names,\n",
    "    True,\n",
    "    show_progress\n",
    ")"
   ]
  },
  {
   "cell_type": "code",
   "execution_count": 27,
   "metadata": {},
   "outputs": [
    {
     "name": "stderr",
     "output_type": "stream",
     "text": [
      "100%|██████████| 5345/5345 [00:00<00:00, 5808.12it/s]\n"
     ]
    }
   ],
   "source": [
    "from mlcolvar.utils.timelagged import create_timelagged_dataset\n",
    "\n",
    "timelagged_dataset = create_timelagged_dataset(dataset, progress_bar=True)"
   ]
  },
  {
   "cell_type": "markdown",
   "metadata": {},
   "source": [
    "Model init"
   ]
  },
  {
   "cell_type": "code",
   "execution_count": 42,
   "metadata": {},
   "outputs": [],
   "source": [
    "from linear_operator_learning.nn import SimNorm\n",
    "from mlcolvar.core.nn.graph.schnet import SchNetModel\n",
    "import torch\n",
    "\n",
    "n_features = 512\n",
    "\n",
    "gnn_model = SchNetModel(n_out=n_features,\n",
    "    cutoff=timelagged_dataset.metadata['cutoff'],\n",
    "    atomic_numbers=timelagged_dataset.metadata['z_table'],\n",
    "    n_bases=6,\n",
    "    n_layers=2,\n",
    "    n_filters=32,\n",
    "    n_hidden_channels=32\n",
    ")\n",
    "model = torch.nn.Sequential(\n",
    "    gnn_model,\n",
    "    SimNorm()\n",
    ")"
   ]
  },
  {
   "cell_type": "markdown",
   "metadata": {},
   "source": [
    "Training"
   ]
  },
  {
   "cell_type": "code",
   "execution_count": 43,
   "metadata": {},
   "outputs": [
    {
     "name": "stderr",
     "output_type": "stream",
     "text": [
      "Trainer will use only 1 of 8 GPUs because it is running inside an interactive / notebook environment. You may try to set `Trainer(devices=8)` but please note that multi-GPU inside interactive / notebook environments is considered experimental and unstable. Your mileage may vary.\n",
      "GPU available: True (cuda), used: True\n",
      "TPU available: False, using: 0 TPU cores\n",
      "HPU available: False, using: 0 HPUs\n"
     ]
    }
   ],
   "source": [
    "from lightning import Trainer\n",
    "from mlcolvar.data import DictModule\n",
    "\n",
    "\n",
    "trainer = Trainer(\n",
    "    logger=False,\n",
    "    enable_checkpointing=False,\n",
    "    accelerator='cuda',\n",
    "    max_epochs=10,\n",
    "    enable_model_summary=True\n",
    ")\n",
    "\n",
    "datamodule = DictModule(timelagged_dataset, batch_size=8)"
   ]
  },
  {
   "cell_type": "code",
   "execution_count": 44,
   "metadata": {},
   "outputs": [],
   "source": [
    "datamodule.setup()"
   ]
  },
  {
   "cell_type": "code",
   "execution_count": 40,
   "metadata": {},
   "outputs": [
    {
     "name": "stdout",
     "output_type": "stream",
     "text": [
      "{'data_list': DataBatch(edge_index=[2, 35752], shifts=[35752, 3], unit_shifts=[35752, 3], positions=[744, 3], cell=[24, 3], node_attrs=[744, 3], graph_labels=[8, 1], n_system=[8, 1], n_env=[8, 1], weight=[8], names_idx=[744], batch=[744], ptr=[9]), 'data_list_lag': DataBatch(edge_index=[2, 36702], shifts=[36702, 3], unit_shifts=[36702, 3], positions=[744, 3], cell=[24, 3], node_attrs=[744, 3], graph_labels=[8, 1], n_system=[8, 1], n_env=[8, 1], weight=[8], names_idx=[744], batch=[744], ptr=[9])}\n"
     ]
    }
   ],
   "source": [
    "for batch in datamodule.train_dataloader():\n",
    "    print(batch)\n",
    "    break\n",
    "\n",
    "def _setup_graph_data(train_batch, key : str='data_list'):\n",
    "    data = train_batch[key]\n",
    "    data['positions'].requires_grad_(True)\n",
    "    data['node_attrs'].requires_grad_(True)\n",
    "    return data"
   ]
  },
  {
   "cell_type": "code",
   "execution_count": 46,
   "metadata": {},
   "outputs": [
    {
     "data": {
      "text/plain": [
       "torch.Size([8, 512])"
      ]
     },
     "execution_count": 46,
     "metadata": {},
     "output_type": "execute_result"
    }
   ],
   "source": [
    "model(_setup_graph_data(batch)).shape"
   ]
  },
  {
   "cell_type": "code",
   "execution_count": 32,
   "metadata": {},
   "outputs": [
    {
     "data": {
      "text/plain": [
       "{'data_list': DataBatch(edge_index=[2, 39152], shifts=[39152, 3], unit_shifts=[39152, 3], positions=[744, 3], cell=[24, 3], node_attrs=[744, 3], graph_labels=[8, 1], n_system=[8, 1], n_env=[8, 1], weight=[8], names_idx=[744], batch=[744], ptr=[9]),\n",
       " 'data_list_lag': DataBatch(edge_index=[2, 39388], shifts=[39388, 3], unit_shifts=[39388, 3], positions=[744, 3], cell=[24, 3], node_attrs=[744, 3], graph_labels=[8, 1], n_system=[8, 1], n_env=[8, 1], weight=[8], names_idx=[744], batch=[744], ptr=[9])}"
      ]
     },
     "execution_count": 32,
     "metadata": {},
     "output_type": "execute_result"
    }
   ],
   "source": [
    "batch"
   ]
  },
  {
   "cell_type": "code",
   "execution_count": null,
   "metadata": {},
   "outputs": [],
   "source": [
    "from src.loss import RegSpectralLoss"
   ]
  }
 ],
 "metadata": {
  "kernelspec": {
   "display_name": ".venv",
   "language": "python",
   "name": "python3"
  },
  "language_info": {
   "codemirror_mode": {
    "name": "ipython",
    "version": 3
   },
   "file_extension": ".py",
   "mimetype": "text/x-python",
   "name": "python",
   "nbconvert_exporter": "python",
   "pygments_lexer": "ipython3",
   "version": "3.11.6"
  }
 },
 "nbformat": 4,
 "nbformat_minor": 2
}
