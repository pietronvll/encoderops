{
 "cells": [
  {
   "cell_type": "code",
   "execution_count": null,
   "id": "31650f01",
   "metadata": {},
   "outputs": [],
   "source": [
    "import lmdb\n",
    "from src.data import mdtraj_load, traj_to_confs\n",
    "from mlcolvar.data.graph.utils import _create_dataset_from_configuration\n",
    "from pathlib import Path"
   ]
  },
  {
   "cell_type": "code",
   "execution_count": 2,
   "id": "2279baa3",
   "metadata": {},
   "outputs": [],
   "source": [
    "data_path = Path(\"/media/novelli/DATA/DESRES/DESRES-Trajectory_CLN025-0-protein/CLN025-0-protein\")\n",
    "trajectory_files = [str(traj) for traj in data_path.glob(\"*.dcd\")]\n",
    "top = next(data_path.glob(\"*.pdb\")).__str__()\n",
    "name = next(data_path.glob(\"*.pdb\")).stem\n",
    "traj = mdtraj_load(trajectory_files, top, 1)"
   ]
  },
  {
   "cell_type": "code",
   "execution_count": 5,
   "id": "bcb76646",
   "metadata": {},
   "outputs": [],
   "source": [
    "system_selection = 'all and not type H'\n",
    "configs, z_table, atom_names = traj_to_confs(\n",
    "    traj, system_selection=system_selection\n",
    ")"
   ]
  },
  {
   "cell_type": "code",
   "execution_count": null,
   "id": "fe569db7",
   "metadata": {},
   "outputs": [],
   "source": [
    "cutoff = 7.0\n"
   ]
  },
  {
   "cell_type": "code",
   "execution_count": 9,
   "id": "88d6b28a",
   "metadata": {},
   "outputs": [
    {
     "data": {
      "text/plain": [
       "Data(edge_index=[2, 11850], shifts=[11850, 3], unit_shifts=[11850, 3], positions=[166, 3], cell=[3, 3], node_attrs=[166, 4], n_system=[1, 1], n_env=[1, 1], weight=1.0)"
      ]
     },
     "execution_count": 9,
     "metadata": {},
     "output_type": "execute_result"
    }
   ],
   "source": [
    "data"
   ]
  },
  {
   "cell_type": "code",
   "execution_count": 12,
   "id": "ddf2b68d",
   "metadata": {},
   "outputs": [],
   "source": [
    "database_path = Path().cwd() / \"preprocessed_data\"\n",
    "if not database_path.exists():\n",
    "    database_path.mkdir(parents=True)\n",
    "lmdb_path = database_path / f\"{name}-cutoff{int(cutoff)}.lmdb\"\n",
    "map_size = 10_995_116_277_760  # 1 TB\n",
    "env = lmdb.open(lmdb_path.__str__(), map_size=map_size, subdir=False)"
   ]
  },
  {
   "cell_type": "code",
   "execution_count": null,
   "id": "7a80b28a",
   "metadata": {},
   "outputs": [],
   "source": [
    "import pickle\n",
    "from tqdm import tqdm\n",
    "def store_to_lmdb(env, configs, z_table, cutoff):\n",
    "    \"\"\"Store dictionary data to LMDB\"\"\"\n",
    "    with env.begin(write=True) as txn:\n",
    "        length = len(configs)\n",
    "        # Store key metadata\n",
    "        txn.put(b'__len__', pickle.dumps(length))\n",
    "        for (idx, c) in tqdm(list(enumerate(configs))):\n",
    "            value = _create_dataset_from_configuration(\n",
    "                config=c, \n",
    "                z_table=z_table, \n",
    "                cutoff=cutoff, \n",
    "                buffer=0.0, \n",
    "            )\n",
    "            item_key = f\"item_{idx}\".encode()\n",
    "            txn.put(item_key, pickle.dumps(value))"
   ]
  },
  {
   "cell_type": "code",
   "execution_count": 15,
   "id": "1816a172",
   "metadata": {},
   "outputs": [
    {
     "name": "stdout",
     "output_type": "stream",
     "text": [
      "\u001b[1A\u001b[2K  ━━━━━━━━━━━━━━━━━━━━━━━━━ 1/534743 Est. 33:42.0\n"
     ]
    },
    {
     "ename": "KeyboardInterrupt",
     "evalue": "",
     "output_type": "error",
     "traceback": [
      "\u001b[31m---------------------------------------------------------------------------\u001b[39m",
      "\u001b[31mKeyboardInterrupt\u001b[39m                         Traceback (most recent call last)",
      "\u001b[36mCell\u001b[39m\u001b[36m \u001b[39m\u001b[32mIn[15]\u001b[39m\u001b[32m, line 1\u001b[39m\n\u001b[32m----> \u001b[39m\u001b[32m1\u001b[39m \u001b[43mstore_to_lmdb\u001b[49m\u001b[43m(\u001b[49m\u001b[43menv\u001b[49m\u001b[43m,\u001b[49m\u001b[43m \u001b[49m\u001b[43mconfigs\u001b[49m\u001b[43m,\u001b[49m\u001b[43m \u001b[49m\u001b[43mz_table\u001b[49m\u001b[43m,\u001b[49m\u001b[43m \u001b[49m\u001b[43mcutoff\u001b[49m\u001b[43m)\u001b[49m\n",
      "\u001b[36mCell\u001b[39m\u001b[36m \u001b[39m\u001b[32mIn[14]\u001b[39m\u001b[32m, line 9\u001b[39m, in \u001b[36mstore_to_lmdb\u001b[39m\u001b[34m(env, configs, z_table, cutoff)\u001b[39m\n\u001b[32m      7\u001b[39m txn.put(\u001b[33mb\u001b[39m\u001b[33m'\u001b[39m\u001b[33m__len__\u001b[39m\u001b[33m'\u001b[39m, pickle.dumps(length))\n\u001b[32m      8\u001b[39m \u001b[38;5;28;01mfor\u001b[39;00m (idx, c) \u001b[38;5;129;01min\u001b[39;00m pbar(\u001b[38;5;28mlist\u001b[39m(\u001b[38;5;28menumerate\u001b[39m(configs))):\n\u001b[32m----> \u001b[39m\u001b[32m9\u001b[39m     value = \u001b[43m_create_dataset_from_configuration\u001b[49m\u001b[43m(\u001b[49m\n\u001b[32m     10\u001b[39m \u001b[43m        \u001b[49m\u001b[43mconfig\u001b[49m\u001b[43m=\u001b[49m\u001b[43mc\u001b[49m\u001b[43m,\u001b[49m\u001b[43m \u001b[49m\n\u001b[32m     11\u001b[39m \u001b[43m        \u001b[49m\u001b[43mz_table\u001b[49m\u001b[43m=\u001b[49m\u001b[43mz_table\u001b[49m\u001b[43m,\u001b[49m\u001b[43m \u001b[49m\n\u001b[32m     12\u001b[39m \u001b[43m        \u001b[49m\u001b[43mcutoff\u001b[49m\u001b[43m=\u001b[49m\u001b[43mcutoff\u001b[49m\u001b[43m,\u001b[49m\u001b[43m \u001b[49m\n\u001b[32m     13\u001b[39m \u001b[43m        \u001b[49m\u001b[43mbuffer\u001b[49m\u001b[43m=\u001b[49m\u001b[32;43m0.0\u001b[39;49m\u001b[43m,\u001b[49m\u001b[43m \u001b[49m\n\u001b[32m     14\u001b[39m \u001b[43m    \u001b[49m\u001b[43m)\u001b[49m\n\u001b[32m     15\u001b[39m     item_key = \u001b[33mf\u001b[39m\u001b[33m\"\u001b[39m\u001b[33mitem_\u001b[39m\u001b[38;5;132;01m{\u001b[39;00midx\u001b[38;5;132;01m}\u001b[39;00m\u001b[33m\"\u001b[39m.encode()\n\u001b[32m     16\u001b[39m     txn.put(item_key, pickle.dumps(value))\n",
      "\u001b[36mFile \u001b[39m\u001b[32m~/encoderops/.venv/lib/python3.11/site-packages/mlcolvar/data/graph/utils.py:47\u001b[39m, in \u001b[36m_create_dataset_from_configuration\u001b[39m\u001b[34m(config, z_table, cutoff, buffer)\u001b[39m\n\u001b[32m     41\u001b[39m \u001b[38;5;28;01massert\u001b[39;00m config.graph_labels \u001b[38;5;129;01mis\u001b[39;00m \u001b[38;5;28;01mNone\u001b[39;00m \u001b[38;5;129;01mor\u001b[39;00m \u001b[38;5;28mlen\u001b[39m(config.graph_labels.shape) == \u001b[32m2\u001b[39m\n\u001b[32m     43\u001b[39m \u001b[38;5;66;03m# NOTE: here we do not take care about the nodes that are not taking part\u001b[39;00m\n\u001b[32m     44\u001b[39m \u001b[38;5;66;03m# the graph, like, we don't even change the node indices in `edge_index`.\u001b[39;00m\n\u001b[32m     45\u001b[39m \u001b[38;5;66;03m# Here we simply ignore them, and rely on the `RemoveIsolatedNodes` method\u001b[39;00m\n\u001b[32m     46\u001b[39m \u001b[38;5;66;03m# that will be called later (in `create_dataset_from_configurations`).\u001b[39;00m\n\u001b[32m---> \u001b[39m\u001b[32m47\u001b[39m edge_index, shifts, unit_shifts = \u001b[43mget_neighborhood\u001b[49m\u001b[43m(\u001b[49m\n\u001b[32m     48\u001b[39m \u001b[43m    \u001b[49m\u001b[43mpositions\u001b[49m\u001b[43m=\u001b[49m\u001b[43mconfig\u001b[49m\u001b[43m.\u001b[49m\u001b[43mpositions\u001b[49m\u001b[43m,\u001b[49m\n\u001b[32m     49\u001b[39m \u001b[43m    \u001b[49m\u001b[43mcutoff\u001b[49m\u001b[43m=\u001b[49m\u001b[43mcutoff\u001b[49m\u001b[43m,\u001b[49m\n\u001b[32m     50\u001b[39m \u001b[43m    \u001b[49m\u001b[43mcell\u001b[49m\u001b[43m=\u001b[49m\u001b[43mconfig\u001b[49m\u001b[43m.\u001b[49m\u001b[43mcell\u001b[49m\u001b[43m,\u001b[49m\n\u001b[32m     51\u001b[39m \u001b[43m    \u001b[49m\u001b[43mpbc\u001b[49m\u001b[43m=\u001b[49m\u001b[43mconfig\u001b[49m\u001b[43m.\u001b[49m\u001b[43mpbc\u001b[49m\u001b[43m,\u001b[49m\n\u001b[32m     52\u001b[39m \u001b[43m    \u001b[49m\u001b[43msystem_indices\u001b[49m\u001b[43m=\u001b[49m\u001b[43mconfig\u001b[49m\u001b[43m.\u001b[49m\u001b[43msystem\u001b[49m\u001b[43m,\u001b[49m\n\u001b[32m     53\u001b[39m \u001b[43m    \u001b[49m\u001b[43menvironment_indices\u001b[49m\u001b[43m=\u001b[49m\u001b[43mconfig\u001b[49m\u001b[43m.\u001b[49m\u001b[43menvironment\u001b[49m\u001b[43m,\u001b[49m\n\u001b[32m     54\u001b[39m \u001b[43m    \u001b[49m\u001b[43mbuffer\u001b[49m\u001b[43m=\u001b[49m\u001b[43mbuffer\u001b[49m\n\u001b[32m     55\u001b[39m \u001b[43m\u001b[49m\u001b[43m)\u001b[49m\n\u001b[32m     56\u001b[39m edge_index = torch.tensor(edge_index, dtype=torch.long)\n\u001b[32m     57\u001b[39m shifts = torch.tensor(shifts, dtype=torch.get_default_dtype())\n",
      "\u001b[36mFile \u001b[39m\u001b[32m~/encoderops/.venv/lib/python3.11/site-packages/mlcolvar/data/graph/neighborhood.py:99\u001b[39m, in \u001b[36mget_neighborhood\u001b[39m\u001b[34m(positions, cutoff, pbc, cell, true_self_interaction, system_indices, environment_indices, buffer)\u001b[39m\n\u001b[32m     96\u001b[39m \u001b[38;5;28;01mif\u001b[39;00m \u001b[38;5;129;01mnot\u001b[39;00m pbc_z:\n\u001b[32m     97\u001b[39m     cell[:, \u001b[32m2\u001b[39m] = max_positions * \u001b[32m5\u001b[39m * cutoff * identity[:, \u001b[32m2\u001b[39m]\n\u001b[32m---> \u001b[39m\u001b[32m99\u001b[39m sender, receiver, unit_shifts, distances = \u001b[43mneighbour_list\u001b[49m\u001b[43m(\u001b[49m\n\u001b[32m    100\u001b[39m \u001b[43m    \u001b[49m\u001b[43mquantities\u001b[49m\u001b[43m=\u001b[49m\u001b[33;43m'\u001b[39;49m\u001b[33;43mijSd\u001b[39;49m\u001b[33;43m'\u001b[39;49m\u001b[43m,\u001b[49m\n\u001b[32m    101\u001b[39m \u001b[43m    \u001b[49m\u001b[43mpbc\u001b[49m\u001b[43m=\u001b[49m\u001b[43mpbc\u001b[49m\u001b[43m,\u001b[49m\n\u001b[32m    102\u001b[39m \u001b[43m    \u001b[49m\u001b[43mcell\u001b[49m\u001b[43m=\u001b[49m\u001b[43mcell\u001b[49m\u001b[43m,\u001b[49m\n\u001b[32m    103\u001b[39m \u001b[43m    \u001b[49m\u001b[43mpositions\u001b[49m\u001b[43m=\u001b[49m\u001b[43mpositions\u001b[49m\u001b[43m,\u001b[49m\n\u001b[32m    104\u001b[39m \u001b[43m    \u001b[49m\u001b[43mcutoff\u001b[49m\u001b[43m=\u001b[49m\u001b[38;5;28;43mfloat\u001b[39;49m\u001b[43m(\u001b[49m\u001b[43mcutoff\u001b[49m\u001b[43m \u001b[49m\u001b[43m+\u001b[49m\u001b[43m \u001b[49m\u001b[43mbuffer\u001b[49m\u001b[43m)\u001b[49m\u001b[43m,\u001b[49m\n\u001b[32m    105\u001b[39m \u001b[43m    \u001b[49m\u001b[38;5;66;43;03m# self_interaction=True,  # we want edges from atom to itself in different periodic images\u001b[39;49;00m\n\u001b[32m    106\u001b[39m \u001b[43m    \u001b[49m\u001b[38;5;66;43;03m# use_scaled_positions=False,  # positions are not scaled positions\u001b[39;49;00m\n\u001b[32m    107\u001b[39m \u001b[43m\u001b[49m\u001b[43m)\u001b[49m\n\u001b[32m    109\u001b[39m \u001b[38;5;28;01mif\u001b[39;00m \u001b[38;5;129;01mnot\u001b[39;00m true_self_interaction:\n\u001b[32m    110\u001b[39m     \u001b[38;5;66;03m# Eliminate self-edges that don't cross periodic boundaries\u001b[39;00m\n\u001b[32m    111\u001b[39m     true_self_edge = sender == receiver\n",
      "\u001b[36mFile \u001b[39m\u001b[32m~/encoderops/.venv/lib/python3.11/site-packages/matscipy/neighbours.py:718\u001b[39m, in \u001b[36mneighbour_list\u001b[39m\u001b[34m(quantities, atoms, cutoff, positions, cell, pbc, numbers, cell_origin)\u001b[39m\n\u001b[32m    715\u001b[39m     _cutoff = cutoff\n\u001b[32m    717\u001b[39m \u001b[38;5;28;01mtry\u001b[39;00m:\n\u001b[32m--> \u001b[39m\u001b[32m718\u001b[39m     \u001b[38;5;28;01mreturn\u001b[39;00m \u001b[43mffi\u001b[49m\u001b[43m.\u001b[49m\u001b[43mneighbour_list\u001b[49m\u001b[43m(\u001b[49m\u001b[43mquantities\u001b[49m\u001b[43m,\u001b[49m\u001b[43m \u001b[49m\u001b[43mcell_origin\u001b[49m\u001b[43m,\u001b[49m\u001b[43m \u001b[49m\u001b[43mcell\u001b[49m\u001b[43m,\u001b[49m\n\u001b[32m    719\u001b[39m \u001b[43m                              \u001b[49m\u001b[43mnp\u001b[49m\u001b[43m.\u001b[49m\u001b[43mlinalg\u001b[49m\u001b[43m.\u001b[49m\u001b[43minv\u001b[49m\u001b[43m(\u001b[49m\u001b[43mcell\u001b[49m\u001b[43m.\u001b[49m\u001b[43mT\u001b[49m\u001b[43m)\u001b[49m\u001b[43m,\u001b[49m\u001b[43m \u001b[49m\u001b[43mpbc\u001b[49m\u001b[43m,\u001b[49m\u001b[43m \u001b[49m\u001b[43mpositions\u001b[49m\u001b[43m,\u001b[49m\n\u001b[32m    720\u001b[39m \u001b[43m                              \u001b[49m\u001b[43m_cutoff\u001b[49m\u001b[43m,\u001b[49m\u001b[43m \u001b[49m\u001b[43mnumbers\u001b[49m\u001b[43m)\u001b[49m\n\u001b[32m    721\u001b[39m \u001b[38;5;28;01mexcept\u001b[39;00m \u001b[38;5;167;01mValueError\u001b[39;00m \u001b[38;5;28;01mas\u001b[39;00m e:\n\u001b[32m    722\u001b[39m     \u001b[38;5;28;01mif\u001b[39;00m \u001b[38;5;28mstr\u001b[39m(e) == \u001b[33m\"\u001b[39m\u001b[33mobject of too small depth for desired array\u001b[39m\u001b[33m\"\u001b[39m:\n",
      "\u001b[31mKeyboardInterrupt\u001b[39m: "
     ]
    }
   ],
   "source": [
    "store_to_lmdb(env, configs, z_table, cutoff)"
   ]
  },
  {
   "cell_type": "code",
   "execution_count": null,
   "id": "8382fd94",
   "metadata": {},
   "outputs": [],
   "source": []
  }
 ],
 "metadata": {
  "kernelspec": {
   "display_name": ".venv",
   "language": "python",
   "name": "python3"
  },
  "language_info": {
   "codemirror_mode": {
    "name": "ipython",
    "version": 3
   },
   "file_extension": ".py",
   "mimetype": "text/x-python",
   "name": "python",
   "nbconvert_exporter": "python",
   "pygments_lexer": "ipython3",
   "version": "3.11.11"
  }
 },
 "nbformat": 4,
 "nbformat_minor": 5
}
